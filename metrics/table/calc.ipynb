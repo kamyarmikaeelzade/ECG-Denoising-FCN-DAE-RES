{
 "cells": [
  {
   "cell_type": "markdown",
   "metadata": {},
   "source": [
    "## calc function"
   ]
  },
  {
   "cell_type": "markdown",
   "metadata": {},
   "source": [
    "# imports"
   ]
  },
  {
   "cell_type": "code",
   "execution_count": 1,
   "metadata": {},
   "outputs": [],
   "source": [
    "import pickle\n",
    "import numpy as np\n",
    "import matplotlib.pyplot as plt\n",
    "import pandas as pd\n",
    "from tensorflow.keras.models import Model\n",
    "from tensorflow.keras.layers import Input, Conv1D, BatchNormalization, Add, Conv1DTranspose, MaxPooling1D, Multiply, LeakyReLU, Dense\n",
    "import tensorflow as tf\n",
    "import numpy as np\n",
    "import matplotlib.pyplot as plt\n",
    "import pywt\n",
    "import math\n",
    "from sklearn.metrics import mean_squared_error\n",
    "import numpy as np\n",
    "import matplotlib.pyplot as plt\n",
    "from scipy import signal\n",
    "from sklearn.metrics import mean_squared_error\n",
    "import math\n",
    "from re import S\n",
    "import wfdb\n",
    "import numpy as np\n",
    "import matplotlib.pylab as plt\n",
    "import scipy as sp\n",
    "import math\n",
    "from scipy import signal\n",
    "from sklearn.metrics import mean_squared_error\n",
    "import numpy as np\n",
    "import matplotlib.pyplot as plt\n",
    "from scipy import signal\n",
    "from sklearn.metrics import mean_squared_error\n",
    "import os"
   ]
  },
  {
   "cell_type": "markdown",
   "metadata": {},
   "source": [
    "# fucntion"
   ]
  },
  {
   "cell_type": "code",
   "execution_count": 2,
   "metadata": {},
   "outputs": [],
   "source": [
    "def calculate_metrics(clean_signal, noisy_signal, denoised_signal):\n",
    "    N = len(clean_signal)\n",
    "    # Power of clean signal\n",
    "    P_clean = np.sum(clean_signal**2) / N\n",
    "    \n",
    "    # Power of noise in input\n",
    "    noise_input = noisy_signal - clean_signal\n",
    "    P_noise_input = np.sum(noise_input**2) / N\n",
    "    \n",
    "    # Input SNR\n",
    "    snr_input = 10 * np.log10(P_clean / P_noise_input)\n",
    "    \n",
    "    # Power of denoised signal\n",
    "    P_denoised = np.sum(denoised_signal**2) / N\n",
    "    \n",
    "    # Power of noise in output\n",
    "    noise_output = denoised_signal - clean_signal\n",
    "    P_noise_output = np.sum(noise_output**2) / N\n",
    "    \n",
    "    # Output SNR\n",
    "    snr_output = 10 * np.log10(P_denoised / P_noise_output)\n",
    "    snr_improvement = snr_output - snr_input\n",
    "    \n",
    "    # Calculate PRD\n",
    "    prd=np.mean(np.sqrt(np.mean((clean_signal - denoised_signal)**2, axis=1)) / np.mean(np.sqrt(np.mean(clean_signal**2, axis=1)))) * 100\n",
    "\n",
    "    \n",
    "    # Calculate SSD\n",
    "    ssd = np.sum((clean_signal - denoised_signal) ** 2)\n",
    "    \n",
    "    # Calculate MAD\n",
    "    mad = np.mean(np.abs(clean_signal - denoised_signal))\n",
    "    \n",
    "    # Calculate RMSE\n",
    "    rmse = np.sqrt(np.mean((clean_signal - denoised_signal) ** 2))\n",
    "    \n",
    "    # Calculate Cosine Similarity\n",
    "    \n",
    "    return (snr_input, snr_output, snr_improvement, prd, ssd, mad, rmse)\n"
   ]
  },
  {
   "cell_type": "markdown",
   "metadata": {},
   "source": [
    "# using it to calc"
   ]
  },
  {
   "cell_type": "code",
   "execution_count": null,
   "metadata": {},
   "outputs": [
    {
     "name": "stdout",
     "output_type": "stream",
     "text": [
      "Results saved to results_of_all.xlsx\n"
     ]
    }
   ],
   "source": [
    "\n",
    "# Initialize an empty list to collect results\n",
    "results = []\n",
    "\n",
    "for file in os.listdir('../../test_results'):\n",
    "    with open(os.path.join('../../test_results', file), 'rb') as input:\n",
    "        test_res = pickle.load(input)\n",
    "    \n",
    "    noisy_signal, original_signal, prediction_signal = test_res\n",
    "    \n",
    "    # Extract the prediction signal based on the file name\n",
    "    if 'dqn' in file or 'policy' in file or 'rein' in file:\n",
    "        prediction_signal = prediction_signal[0]\n",
    "        \n",
    "    # print('____________________________________________________________')\n",
    "    # print(file)\n",
    "    # print('____________________________________________________________')\n",
    "    \n",
    "    # Calculate metrics\n",
    "    input_snr, output_snr, snr_improvement, prd_value, ssd_value, mad_value, rmse_value = calculate_metrics(original_signal, noisy_signal, prediction_signal)\n",
    "    \n",
    "    # # Print metrics\n",
    "    # print(f\"Input SNR: {input_snr} dB\")\n",
    "    # print(f\"Output SNR: {output_snr} dB\")\n",
    "    # print(f\"Improvement SNR: {snr_improvement} dB\")\n",
    "    # print(f\"Percentage Root Mean Square Difference (PRD): {prd_value:.2f}%\")\n",
    "    # print(f\"Sum of Squared Differences (SSD): {ssd_value:.2f}\")\n",
    "    # print(f\"Mean Absolute Difference (MAD): {mad_value:.2f}\")\n",
    "    # print(f\"Root Mean Square Error (RMSE): {rmse_value:.2f}\")\n",
    "    \n",
    "    # Append results to the list\n",
    "    results.append({\n",
    "        'File': file.split('.')[0],\n",
    "        'Input SNR (dB)': input_snr,\n",
    "        'Output SNR (dB)': output_snr,\n",
    "        'Improvement SNR (dB)': snr_improvement,\n",
    "        'PRD (%)': prd_value,\n",
    "        'SSD': ssd_value,\n",
    "        'MAD': mad_value,\n",
    "        'RMSE': rmse_value\n",
    "    })\n",
    "\n",
    "# Create a DataFrame from the results\n",
    "results_df = pd.DataFrame(results)\n",
    "\n",
    "output_file = f\"results_of_all.xlsx\"\n",
    "results_df.to_excel(output_file, index=False)\n",
    "\n",
    "print(f\"Results saved to {output_file}\")\n"
   ]
  },
  {
   "cell_type": "code",
   "execution_count": null,
   "metadata": {},
   "outputs": [],
   "source": []
  }
 ],
 "metadata": {
  "kernelspec": {
   "display_name": "Python 3",
   "language": "python",
   "name": "python3"
  },
  "language_info": {
   "codemirror_mode": {
    "name": "ipython",
    "version": 3
   },
   "file_extension": ".py",
   "mimetype": "text/x-python",
   "name": "python",
   "nbconvert_exporter": "python",
   "pygments_lexer": "ipython3",
   "version": "3.11.9"
  }
 },
 "nbformat": 4,
 "nbformat_minor": 2
}
